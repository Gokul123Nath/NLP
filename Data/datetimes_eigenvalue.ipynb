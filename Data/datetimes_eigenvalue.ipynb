{
 "cells": [
  {
   "cell_type": "markdown",
   "id": "6217a4d2",
   "metadata": {},
   "source": [
    "### Import the module named datetime to work with dates as date object"
   ]
  },
  {
   "cell_type": "code",
   "execution_count": 1,
   "id": "72ac9186",
   "metadata": {},
   "outputs": [
    {
     "name": "stdout",
     "output_type": "stream",
     "text": [
      "2022-07-16 21:05:24.107422\n"
     ]
    }
   ],
   "source": [
    "import datetime             #we import the datetime module,there is a datetime object through which we fetch the current time\n",
    "x= datetime.datetime.now()  #using the now() function\n",
    "                            # the o/p is year,month,date,hours,min,seconds,microseconds\n",
    "print(x)"
   ]
  },
  {
   "cell_type": "markdown",
   "id": "9d7621d7",
   "metadata": {},
   "source": [
    "### The strftime() function is used to convert date and time objects to their string representation"
   ]
  },
  {
   "cell_type": "code",
   "execution_count": 2,
   "id": "be27058b",
   "metadata": {},
   "outputs": [
    {
     "name": "stdout",
     "output_type": "stream",
     "text": [
      "2022\n"
     ]
    }
   ],
   "source": [
    "import datetime\n",
    "y1 = x.strftime(\"%Y\")   #%Y gives the full year version\n",
    "print(y1)"
   ]
  },
  {
   "cell_type": "code",
   "execution_count": 5,
   "id": "da985a47",
   "metadata": {
    "scrolled": true
   },
   "outputs": [
    {
     "name": "stdout",
     "output_type": "stream",
     "text": [
      "22\n"
     ]
    }
   ],
   "source": [
    "import datetime\n",
    "y2 = x.strftime(\"%y\")   #%y gives the shorter version of year\n",
    "print(y2)"
   ]
  },
  {
   "cell_type": "code",
   "execution_count": 7,
   "id": "f4a43fd1",
   "metadata": {},
   "outputs": [
    {
     "name": "stdout",
     "output_type": "stream",
     "text": [
      "July\n"
     ]
    }
   ],
   "source": [
    "import datetime\n",
    "y3 = x.strftime(\"%B\")  #gives the full month name\n",
    "print(y3)"
   ]
  },
  {
   "cell_type": "code",
   "execution_count": 8,
   "id": "5547ba80",
   "metadata": {},
   "outputs": [
    {
     "name": "stdout",
     "output_type": "stream",
     "text": [
      "12\n"
     ]
    }
   ],
   "source": [
    "import datetime\n",
    "y4 = x.strftime(\"%H\") #gives only the hours from a date in 24 hrs format\n",
    "print(y4)"
   ]
  },
  {
   "cell_type": "code",
   "execution_count": 10,
   "id": "733de36d",
   "metadata": {},
   "outputs": [
    {
     "name": "stdout",
     "output_type": "stream",
     "text": [
      "12\n"
     ]
    }
   ],
   "source": [
    "import datetime\n",
    "y5 = x.strftime(\"%I\") #gives only the hours from a date in 12 hrs format\n",
    "print(y5)"
   ]
  },
  {
   "cell_type": "code",
   "execution_count": 11,
   "id": "66a07cc1",
   "metadata": {},
   "outputs": [
    {
     "name": "stdout",
     "output_type": "stream",
     "text": [
      "PM\n"
     ]
    }
   ],
   "source": [
    "import datetime\n",
    "y6 = x.strftime(\"%p\") #gives us the AM/PM\n",
    "print(y6)"
   ]
  },
  {
   "cell_type": "code",
   "execution_count": null,
   "id": "aff8337b",
   "metadata": {},
   "outputs": [],
   "source": []
  },
  {
   "cell_type": "code",
   "execution_count": 4,
   "id": "b01a22a3",
   "metadata": {},
   "outputs": [
    {
     "name": "stdout",
     "output_type": "stream",
     "text": [
      "2015-10-16 00:00:00\n"
     ]
    }
   ],
   "source": [
    "#We can also specify the year,month and date as parameters to get the customised date as output\n",
    "print (datetime.datetime(2015,10,16))"
   ]
  },
  {
   "cell_type": "code",
   "execution_count": 12,
   "id": "e8254abc",
   "metadata": {},
   "outputs": [],
   "source": [
    "#Difference between two dates\n",
    "#Say we take the last date of the year as the reference date,31st Dec and check how many days we have left from today.\n",
    "\n",
    "from datetime import date\n",
    "today = date.today()\n",
    "last_day = date(date.today().year,12,31)\n"
   ]
  },
  {
   "cell_type": "code",
   "execution_count": 13,
   "id": "6190872c",
   "metadata": {},
   "outputs": [],
   "source": [
    "days_left = last_day- today"
   ]
  },
  {
   "cell_type": "code",
   "execution_count": 14,
   "id": "e3afaff8",
   "metadata": {},
   "outputs": [
    {
     "name": "stdout",
     "output_type": "stream",
     "text": [
      "169 days, 0:00:00\n"
     ]
    }
   ],
   "source": [
    "print(days_left)"
   ]
  },
  {
   "cell_type": "code",
   "execution_count": 15,
   "id": "a5efde77",
   "metadata": {},
   "outputs": [
    {
     "name": "stdout",
     "output_type": "stream",
     "text": [
      "169\n"
     ]
    }
   ],
   "source": [
    "print(days_left.days)"
   ]
  },
  {
   "cell_type": "code",
   "execution_count": null,
   "id": "c2dc2844",
   "metadata": {},
   "outputs": [],
   "source": []
  }
 ],
 "metadata": {
  "kernelspec": {
   "display_name": "Python 3",
   "language": "python",
   "name": "python3"
  },
  "language_info": {
   "codemirror_mode": {
    "name": "ipython",
    "version": 3
   },
   "file_extension": ".py",
   "mimetype": "text/x-python",
   "name": "python",
   "nbconvert_exporter": "python",
   "pygments_lexer": "ipython3",
   "version": "3.8.8"
  }
 },
 "nbformat": 4,
 "nbformat_minor": 5
}
