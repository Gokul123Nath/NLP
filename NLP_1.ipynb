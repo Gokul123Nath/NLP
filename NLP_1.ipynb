{
  "cells": [
    {
      "cell_type": "code",
      "execution_count": null,
      "id": "38ae3fce",
      "metadata": {
        "id": "38ae3fce"
      },
      "outputs": [],
      "source": [
        "#First we import the required libraries\n",
        "import pandas as pd\n",
        "import string            #the class string is downloaded from nltk corpus\n",
        "from nltk.corpus import stopwords"
      ]
    },
    {
      "cell_type": "code",
      "execution_count": null,
      "id": "8d4f00ec",
      "metadata": {
        "id": "8d4f00ec"
      },
      "outputs": [],
      "source": [
        "#Get the spam data collection dataset which is tcsv,and the sep function takes it as a parameter.\n",
        "#message is the text present in the dataset,while response is the label/category of the message.\n",
        "df_spamcollection = pd.read_csv(\"Data\\SpamCollection\",sep = '\\t',names=['response','message'])"
      ]
    },
    {
      "cell_type": "code",
      "execution_count": null,
      "id": "4dc92689",
      "metadata": {
        "id": "4dc92689",
        "outputId": "ecfba519-c459-4102-c6d5-5419c4bfa7ea"
      },
      "outputs": [
        {
          "data": {
            "text/html": [
              "<div>\n",
              "<style scoped>\n",
              "    .dataframe tbody tr th:only-of-type {\n",
              "        vertical-align: middle;\n",
              "    }\n",
              "\n",
              "    .dataframe tbody tr th {\n",
              "        vertical-align: top;\n",
              "    }\n",
              "\n",
              "    .dataframe thead th {\n",
              "        text-align: right;\n",
              "    }\n",
              "</style>\n",
              "<table border=\"1\" class=\"dataframe\">\n",
              "  <thead>\n",
              "    <tr style=\"text-align: right;\">\n",
              "      <th></th>\n",
              "      <th>response</th>\n",
              "      <th>message</th>\n",
              "    </tr>\n",
              "  </thead>\n",
              "  <tbody>\n",
              "    <tr>\n",
              "      <th>0</th>\n",
              "      <td>ham</td>\n",
              "      <td>Go until jurong point, crazy.. Available only ...</td>\n",
              "    </tr>\n",
              "    <tr>\n",
              "      <th>1</th>\n",
              "      <td>ham</td>\n",
              "      <td>Ok lar... Joking wif u oni...</td>\n",
              "    </tr>\n",
              "    <tr>\n",
              "      <th>2</th>\n",
              "      <td>spam</td>\n",
              "      <td>Free entry in 2 a wkly comp to win FA Cup fina...</td>\n",
              "    </tr>\n",
              "    <tr>\n",
              "      <th>3</th>\n",
              "      <td>ham</td>\n",
              "      <td>U dun say so early hor... U c already then say...</td>\n",
              "    </tr>\n",
              "    <tr>\n",
              "      <th>4</th>\n",
              "      <td>ham</td>\n",
              "      <td>Nah I don't think he goes to usf, he lives aro...</td>\n",
              "    </tr>\n",
              "  </tbody>\n",
              "</table>\n",
              "</div>"
            ],
            "text/plain": [
              "  response                                            message\n",
              "0      ham  Go until jurong point, crazy.. Available only ...\n",
              "1      ham                      Ok lar... Joking wif u oni...\n",
              "2     spam  Free entry in 2 a wkly comp to win FA Cup fina...\n",
              "3      ham  U dun say so early hor... U c already then say...\n",
              "4      ham  Nah I don't think he goes to usf, he lives aro..."
            ]
          },
          "execution_count": 3,
          "metadata": {},
          "output_type": "execute_result"
        }
      ],
      "source": [
        "df_spamcollection.head()"
      ]
    },
    {
      "cell_type": "code",
      "execution_count": null,
      "id": "23f7cb4b",
      "metadata": {
        "id": "23f7cb4b",
        "outputId": "7186ce7a-3cc2-42e7-a071-557ef66edc7c"
      },
      "outputs": [
        {
          "data": {
            "text/html": [
              "<div>\n",
              "<style scoped>\n",
              "    .dataframe tbody tr th:only-of-type {\n",
              "        vertical-align: middle;\n",
              "    }\n",
              "\n",
              "    .dataframe tbody tr th {\n",
              "        vertical-align: top;\n",
              "    }\n",
              "\n",
              "    .dataframe thead th {\n",
              "        text-align: right;\n",
              "    }\n",
              "</style>\n",
              "<table border=\"1\" class=\"dataframe\">\n",
              "  <thead>\n",
              "    <tr style=\"text-align: right;\">\n",
              "      <th></th>\n",
              "      <th>response</th>\n",
              "      <th>message</th>\n",
              "    </tr>\n",
              "  </thead>\n",
              "  <tbody>\n",
              "    <tr>\n",
              "      <th>count</th>\n",
              "      <td>5572</td>\n",
              "      <td>5572</td>\n",
              "    </tr>\n",
              "    <tr>\n",
              "      <th>unique</th>\n",
              "      <td>2</td>\n",
              "      <td>5169</td>\n",
              "    </tr>\n",
              "    <tr>\n",
              "      <th>top</th>\n",
              "      <td>ham</td>\n",
              "      <td>Sorry, I'll call later</td>\n",
              "    </tr>\n",
              "    <tr>\n",
              "      <th>freq</th>\n",
              "      <td>4825</td>\n",
              "      <td>30</td>\n",
              "    </tr>\n",
              "  </tbody>\n",
              "</table>\n",
              "</div>"
            ],
            "text/plain": [
              "       response                 message\n",
              "count      5572                    5572\n",
              "unique        2                    5169\n",
              "top         ham  Sorry, I'll call later\n",
              "freq       4825                      30"
            ]
          },
          "execution_count": 5,
          "metadata": {},
          "output_type": "execute_result"
        }
      ],
      "source": [
        "df_spamcollection.describe()"
      ]
    },
    {
      "cell_type": "code",
      "execution_count": null,
      "id": "0ccfc415",
      "metadata": {
        "id": "0ccfc415",
        "outputId": "77263e1b-31e7-45f9-e2a6-16a505af7824"
      },
      "outputs": [
        {
          "data": {
            "text/html": [
              "<div>\n",
              "<style scoped>\n",
              "    .dataframe tbody tr th:only-of-type {\n",
              "        vertical-align: middle;\n",
              "    }\n",
              "\n",
              "    .dataframe tbody tr th {\n",
              "        vertical-align: top;\n",
              "    }\n",
              "\n",
              "    .dataframe thead tr th {\n",
              "        text-align: left;\n",
              "    }\n",
              "\n",
              "    .dataframe thead tr:last-of-type th {\n",
              "        text-align: right;\n",
              "    }\n",
              "</style>\n",
              "<table border=\"1\" class=\"dataframe\">\n",
              "  <thead>\n",
              "    <tr>\n",
              "      <th></th>\n",
              "      <th colspan=\"4\" halign=\"left\">message</th>\n",
              "    </tr>\n",
              "    <tr>\n",
              "      <th></th>\n",
              "      <th>count</th>\n",
              "      <th>unique</th>\n",
              "      <th>top</th>\n",
              "      <th>freq</th>\n",
              "    </tr>\n",
              "    <tr>\n",
              "      <th>response</th>\n",
              "      <th></th>\n",
              "      <th></th>\n",
              "      <th></th>\n",
              "      <th></th>\n",
              "    </tr>\n",
              "  </thead>\n",
              "  <tbody>\n",
              "    <tr>\n",
              "      <th>ham</th>\n",
              "      <td>4825</td>\n",
              "      <td>4516</td>\n",
              "      <td>Sorry, I'll call later</td>\n",
              "      <td>30</td>\n",
              "    </tr>\n",
              "    <tr>\n",
              "      <th>spam</th>\n",
              "      <td>747</td>\n",
              "      <td>653</td>\n",
              "      <td>Please call our customer service representativ...</td>\n",
              "      <td>4</td>\n",
              "    </tr>\n",
              "  </tbody>\n",
              "</table>\n",
              "</div>"
            ],
            "text/plain": [
              "         message                                                            \\\n",
              "           count unique                                                top   \n",
              "response                                                                     \n",
              "ham         4825   4516                             Sorry, I'll call later   \n",
              "spam         747    653  Please call our customer service representativ...   \n",
              "\n",
              "               \n",
              "         freq  \n",
              "response       \n",
              "ham        30  \n",
              "spam        4  "
            ]
          },
          "execution_count": 8,
          "metadata": {},
          "output_type": "execute_result"
        }
      ],
      "source": [
        "df_spamcollection.groupby('response').describe()"
      ]
    },
    {
      "cell_type": "code",
      "execution_count": null,
      "id": "bf712f09",
      "metadata": {
        "id": "bf712f09",
        "outputId": "8991ddaa-f1da-45ae-bf6c-3f12a8b0de16"
      },
      "outputs": [
        {
          "data": {
            "image/png": "[encoded data removed]",
            "text/plain": [
              "<Figure size 576x288 with 1 Axes>"
            ]
          },
          "metadata": {},
          "output_type": "display_data"
        }
      ],
      "source": [
        "import matplotlib.pyplot as plt\n",
        "import seaborn as sns\n",
        "%matplotlib inline\n",
        "sns.set_style('darkgrid')\n",
        "plt.figure(figsize=(8,4)) # figsize which takes a tuple as an argument that contains the height and the width of the plot\n",
        "sns.countplot(x='response', data=df_spamcollection)\n",
        "plt.title('Count Plot')\n",
        "plt.show()"
      ]
    },
    {
      "cell_type": "code",
      "execution_count": null,
      "id": "9e42aae2",
      "metadata": {
        "id": "9e42aae2"
      },
      "outputs": [],
      "source": [
        "#verify length of the messages and add it as a new column(feature).the syntax on the LHS shows how to add new columns\n",
        "#to a dataframe\n",
        "df_spamcollection['length'] = df_spamcollection['message'].apply(len)"
      ]
    },
    {
      "cell_type": "code",
      "execution_count": null,
      "id": "0b844b69",
      "metadata": {
        "id": "0b844b69",
        "outputId": "658a3762-24fa-4b49-f1f1-5ec1d69b667e"
      },
      "outputs": [
        {
          "data": {
            "text/html": [
              "<div>\n",
              "<style scoped>\n",
              "    .dataframe tbody tr th:only-of-type {\n",
              "        vertical-align: middle;\n",
              "    }\n",
              "\n",
              "    .dataframe tbody tr th {\n",
              "        vertical-align: top;\n",
              "    }\n",
              "\n",
              "    .dataframe thead th {\n",
              "        text-align: right;\n",
              "    }\n",
              "</style>\n",
              "<table border=\"1\" class=\"dataframe\">\n",
              "  <thead>\n",
              "    <tr style=\"text-align: right;\">\n",
              "      <th></th>\n",
              "      <th>response</th>\n",
              "      <th>message</th>\n",
              "      <th>length</th>\n",
              "    </tr>\n",
              "  </thead>\n",
              "  <tbody>\n",
              "    <tr>\n",
              "      <th>0</th>\n",
              "      <td>ham</td>\n",
              "      <td>Go until jurong point, crazy.. Available only ...</td>\n",
              "      <td>111</td>\n",
              "    </tr>\n",
              "    <tr>\n",
              "      <th>1</th>\n",
              "      <td>ham</td>\n",
              "      <td>Ok lar... Joking wif u oni...</td>\n",
              "      <td>29</td>\n",
              "    </tr>\n",
              "    <tr>\n",
              "      <th>2</th>\n",
              "      <td>spam</td>\n",
              "      <td>Free entry in 2 a wkly comp to win FA Cup fina...</td>\n",
              "      <td>155</td>\n",
              "    </tr>\n",
              "    <tr>\n",
              "      <th>3</th>\n",
              "      <td>ham</td>\n",
              "      <td>U dun say so early hor... U c already then say...</td>\n",
              "      <td>49</td>\n",
              "    </tr>\n",
              "    <tr>\n",
              "      <th>4</th>\n",
              "      <td>ham</td>\n",
              "      <td>Nah I don't think he goes to usf, he lives aro...</td>\n",
              "      <td>61</td>\n",
              "    </tr>\n",
              "  </tbody>\n",
              "</table>\n",
              "</div>"
            ],
            "text/plain": [
              "  response                                            message  length\n",
              "0      ham  Go until jurong point, crazy.. Available only ...     111\n",
              "1      ham                      Ok lar... Joking wif u oni...      29\n",
              "2     spam  Free entry in 2 a wkly comp to win FA Cup fina...     155\n",
              "3      ham  U dun say so early hor... U c already then say...      49\n",
              "4      ham  Nah I don't think he goes to usf, he lives aro...      61"
            ]
          },
          "execution_count": 11,
          "metadata": {},
          "output_type": "execute_result"
        }
      ],
      "source": [
        "#view first 5 messages with length\n",
        "df_spamcollection.head()"
      ]
    },
    {
      "cell_type": "markdown",
      "id": "14c7cb0d",
      "metadata": {
        "id": "14c7cb0d"
      },
      "source": [
        "#### As we know any algorithm is good with numbers,we have to convert the text into numbers so that we can apply an algorithm to it. This process is called vectorization. Before vectorization we clean the text by removing stopwords and punctuation so that we get the important words or 'features'. This process is called tokenization.We need the nltk library to do this step."
      ]
    },
    {
      "cell_type": "code",
      "execution_count": null,
      "id": "aa288238",
      "metadata": {
        "id": "aa288238",
        "outputId": "234691cf-115a-47e2-e08f-32b9bf0fd72a"
      },
      "outputs": [
        {
          "name": "stderr",
          "output_type": "stream",
          "text": [
            "[nltk_data] Downloading package stopwords to\n",
            "[nltk_data]     C:\\Users\\gokulnath.kandasamy\\AppData\\Roaming\\nltk_data\n",
            "[nltk_data]     ...\n",
            "[nltk_data]   Unzipping corpora\\stopwords.zip.\n"
          ]
        },
        {
          "data": {
            "text/plain": [
              "True"
            ]
          },
          "execution_count": 13,
          "metadata": {},
          "output_type": "execute_result"
        }
      ],
      "source": [
        "#importing the libraries\n",
        "import string\n",
        "import nltk\n",
        "from nltk.corpus import stopwords\n",
        "nltk.download('stopwords')\n",
        ""
      ]
    },
    {
      "cell_type": "code",
      "execution_count": null,
      "id": "2d765645",
      "metadata": {
        "id": "2d765645"
      },
      "outputs": [],
      "source": [
        "stopwords_nltk=stopwords.words('english')"
      ]
    },
    {
      "cell_type": "code",
      "execution_count": null,
      "id": "2d0933c0",
      "metadata": {
        "id": "2d0933c0"
      },
      "outputs": [],
      "source": [
        "#stopwords_nltk"
      ]
    },
    {
      "cell_type": "code",
      "execution_count": null,
      "id": "406e59cd",
      "metadata": {
        "id": "406e59cd"
      },
      "outputs": [],
      "source": [
        "def text_preprocess(text):\n",
        "\n",
        "#1. Remove punctuation in the text\n",
        "    #2. Remove stop words in the text\n",
        "    #3. Return a list of words in the text\n",
        "    #check characters to see if there are punctuation:\n",
        "    no_punctuation = [i for i in text if i not in string.punctuation]\n",
        "    #Now we will form the sentence with words having no punctuation\n",
        "    no_punctuation = ''.join(no_punctuation)    #The join takes all the words without punctuation and join them into a single string.\n",
        "    #Now eliminate any stopwords by looping through the no_punctuation object,and return all the words which\n",
        "    #in lower case is not a part of the stopwords in english. Conversion to lower case is very much required,as 'he' and 'He'\n",
        "    #can be treated as two different features\n",
        "    return [word for word in no_punctuation.split() if word.lower() not in stopwords.words('english')]"
      ]
    },
    {
      "cell_type": "code",
      "execution_count": null,
      "id": "16e954b2",
      "metadata": {
        "id": "16e954b2",
        "outputId": "4e1c73c7-f51c-4ee3-a625-0462eee646a5"
      },
      "outputs": [
        {
          "data": {
            "text/plain": [
              "0    [Go, jurong, point, crazy, Available, bugis, n...\n",
              "1                       [Ok, lar, Joking, wif, u, oni]\n",
              "2    [Free, entry, 2, wkly, comp, win, FA, Cup, fin...\n",
              "3        [U, dun, say, early, hor, U, c, already, say]\n",
              "4    [Nah, dont, think, goes, usf, lives, around, t...\n",
              "Name: message, dtype: object"
            ]
          },
          "execution_count": 23,
          "metadata": {},
          "output_type": "execute_result"
        }
      ],
      "source": [
        "df_spamcollection['message'].head().apply(text_preprocess)"
      ]
    },
    {
      "cell_type": "code",
      "execution_count": null,
      "id": "2a8617c5",
      "metadata": {
        "id": "2a8617c5"
      },
      "outputs": [],
      "source": [
        "from sklearn.feature_extraction.text import CountVectorizer"
      ]
    },
    {
      "cell_type": "code",
      "execution_count": null,
      "id": "5e0d4cc2",
      "metadata": {
        "id": "5e0d4cc2"
      },
      "outputs": [],
      "source": [
        "bag_of_words_transformer = CountVectorizer(analyzer=text_preprocess).fit(df_spamcollection['message'])"
      ]
    },
    {
      "cell_type": "code",
      "execution_count": null,
      "id": "c897627e",
      "metadata": {
        "id": "c897627e",
        "outputId": "ebe36097-821c-4b24-ff83-aaeb60196bfa"
      },
      "outputs": [
        {
          "name": "stdout",
          "output_type": "stream",
          "text": [
            "11425\n"
          ]
        }
      ],
      "source": [
        "print(len(bag_of_words_transformer.vocabulary_))"
      ]
    },
    {
      "cell_type": "code",
      "execution_count": null,
      "id": "ec2dcf91",
      "metadata": {
        "id": "ec2dcf91"
      },
      "outputs": [],
      "source": [
        "message_bagofwords = bag_of_words_transformer.transform(df_spamcollection['message'])"
      ]
    },
    {
      "cell_type": "code",
      "execution_count": null,
      "id": "40169dfb",
      "metadata": {
        "id": "40169dfb",
        "outputId": "e037a605-2077-4cbe-8b72-125a89ee3800"
      },
      "outputs": [
        {
          "data": {
            "text/plain": [
              "(5572, 11425)"
            ]
          },
          "execution_count": 37,
          "metadata": {},
          "output_type": "execute_result"
        }
      ],
      "source": [
        "message_bagofwords.shape"
      ]
    },
    {
      "cell_type": "code",
      "execution_count": null,
      "id": "fa00bdb6",
      "metadata": {
        "id": "fa00bdb6"
      },
      "outputs": [],
      "source": [
        "from sklearn.feature_extraction.text import TfidfTransformer\n",
        "tfidf= TfidfTransformer().fit(message_bagofwords)"
      ]
    },
    {
      "cell_type": "code",
      "execution_count": null,
      "id": "afc48c96",
      "metadata": {
        "id": "afc48c96"
      },
      "outputs": [],
      "source": [
        "message_tfidf= tfidf.transform(message_bagofwords)"
      ]
    },
    {
      "cell_type": "code",
      "execution_count": null,
      "id": "a660cda3",
      "metadata": {
        "id": "a660cda3",
        "outputId": "a130c5e3-d2d4-455b-d465-54918c3b7da6"
      },
      "outputs": [
        {
          "data": {
            "text/plain": [
              "(5572, 11425)"
            ]
          },
          "execution_count": 42,
          "metadata": {},
          "output_type": "execute_result"
        }
      ],
      "source": [
        "message_tfidf.shape"
      ]
    },
    {
      "cell_type": "code",
      "execution_count": null,
      "id": "79828ceb",
      "metadata": {
        "id": "79828ceb"
      },
      "outputs": [],
      "source": [
        "#Train Test Split\n",
        "from sklearn.model_selection import train_test_split\n",
        "X = df_spamcollection['message']\n",
        "y= df_spamcollection['response']\n",
        "X_train, X_test, y_train, y_test = train_test_split(\n",
        "    X, y, test_size=0.25, random_state=42)"
      ]
    },
    {
      "cell_type": "code",
      "execution_count": null,
      "id": "a389b002",
      "metadata": {
        "id": "a389b002"
      },
      "outputs": [],
      "source": [
        "#Create pipeline\n",
        "from sklearn.pipeline import Pipeline\n",
        "from sklearn.feature_extraction.text import CountVectorizer    # countvectorizer helps you get the features\n",
        "from sklearn.feature_extraction.text import TfidfTransformer   #value each feature accordingly\n",
        "from sklearn.naive_bayes import MultinomialNB\n",
        "pipeline = Pipeline([\n",
        "    ('vectorize', CountVectorizer(analyzer=text_preprocess)),\n",
        "    ('tfidf', TfidfTransformer()),\n",
        "    ('NBclassifier', MultinomialNB())\n",
        "])"
      ]
    },
    {
      "cell_type": "code",
      "execution_count": null,
      "id": "914a1a39",
      "metadata": {
        "id": "914a1a39",
        "outputId": "9b29faf1-e522-421b-f710-e11648c193b5"
      },
      "outputs": [
        {
          "data": {
            "text/plain": [
              "Pipeline(steps=[('vectorize',\n",
              "                 CountVectorizer(analyzer=<function text_preprocess at 0x0000021E28787CA0>)),\n",
              "                ('tfidf', TfidfTransformer()),\n",
              "                ('NBclassifier', MultinomialNB())])"
            ]
          },
          "execution_count": 45,
          "metadata": {},
          "output_type": "execute_result"
        }
      ],
      "source": [
        "pipeline.fit(X_train,y_train)"
      ]
    },
    {
      "cell_type": "code",
      "execution_count": null,
      "id": "5f1bbe9a",
      "metadata": {
        "id": "5f1bbe9a"
      },
      "outputs": [],
      "source": [
        "y_pred=pipeline.predict(X_test)"
      ]
    },
    {
      "cell_type": "code",
      "execution_count": null,
      "id": "24823961",
      "metadata": {
        "id": "24823961",
        "outputId": "6306fbe3-42ac-4263-92f8-458adbf359b7"
      },
      "outputs": [
        {
          "data": {
            "text/plain": [
              "array(['ham', 'ham', 'ham', ..., 'ham', 'ham', 'ham'], dtype='<U4')"
            ]
          },
          "execution_count": 47,
          "metadata": {},
          "output_type": "execute_result"
        }
      ],
      "source": [
        "y_pred"
      ]
    },
    {
      "cell_type": "code",
      "execution_count": null,
      "id": "7b2458fe",
      "metadata": {
        "id": "7b2458fe",
        "outputId": "9fe67d9d-cc7f-404d-f2ab-8c3944e7336b"
      },
      "outputs": [
        {
          "name": "stdout",
          "output_type": "stream",
          "text": [
            "\n",
            "Confusion Matrix:\n",
            "[[1207    0]\n",
            " [  45  141]]\n",
            "Classification Report:\n",
            "              precision    recall  f1-score   support\n",
            "\n",
            "         ham       0.96      1.00      0.98      1207\n",
            "        spam       1.00      0.76      0.86       186\n",
            "\n",
            "    accuracy                           0.97      1393\n",
            "   macro avg       0.98      0.88      0.92      1393\n",
            "weighted avg       0.97      0.97      0.97      1393\n",
            "\n",
            "\n"
          ]
        }
      ],
      "source": [
        "from sklearn.metrics import confusion_matrix, classification_report\n",
        "print(f\"\"\"\n",
        "Confusion Matrix:\n",
        "{confusion_matrix(y_test, y_pred)}\n",
        "Classification Report:\n",
        "{classification_report(y_test, y_pred)}\n",
        "\"\"\")"
      ]
    },
    {
      "cell_type": "code",
      "execution_count": null,
      "id": "7046806d",
      "metadata": {
        "id": "7046806d"
      },
      "outputs": [],
      "source": []
    }
  ],
  "metadata": {
    "kernelspec": {
      "display_name": "Python 3",
      "language": "python",
      "name": "python3"
    },
    "language_info": {
      "codemirror_mode": {
        "name": "ipython",
        "version": 3
      },
      "file_extension": ".py",
      "mimetype": "text/x-python",
      "name": "python",
      "nbconvert_exporter": "python",
      "pygments_lexer": "ipython3",
      "version": "3.8.8"
    },
    "colab": {
      "provenance": []
    }
  },
  "nbformat": 4,
  "nbformat_minor": 5
}